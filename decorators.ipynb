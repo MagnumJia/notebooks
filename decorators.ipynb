{
 "cells": [
  {
   "cell_type": "markdown",
   "metadata": {},
   "source": [
    "# Python decorators and some applications"
   ]
  },
  {
   "cell_type": "markdown",
   "metadata": {},
   "source": [
    "### to run this notebook\n",
    "```bash\n",
    "pip install jupyter # sudo if necessary\n",
    "jupyter notebook # in the directory that contains this notebook\n",
    "```\n",
    "When you want to add two numbers and double the output"
   ]
  },
  {
   "cell_type": "code",
   "execution_count": 1,
   "metadata": {},
   "outputs": [
    {
     "name": "stdout",
     "output_type": "stream",
     "text": [
      "3\n",
      "1 2\n",
      "3\n"
     ]
    },
    {
     "data": {
      "text/plain": [
       "3"
      ]
     },
     "execution_count": 1,
     "metadata": {},
     "output_type": "execute_result"
    }
   ],
   "source": [
    "def add(n1, n2):\n",
    "    return n1 + n2\n",
    "\n",
    "\n",
    "def add_and_print(n1, n2):\n",
    "    print n1, n2\n",
    "    s = n1 + n2\n",
    "    print s\n",
    "    return s\n",
    "    \n",
    "\n",
    "print add(1, 2)\n",
    "\n",
    "add_and_print(1, 2)\n"
   ]
  },
  {
   "cell_type": "markdown",
   "metadata": {},
   "source": [
    "## Everything in python is object\n",
    "### A function can return another function\n",
    "### You can define a function in the block a function"
   ]
  },
  {
   "cell_type": "code",
   "execution_count": 2,
   "metadata": {},
   "outputs": [
    {
     "name": "stdout",
     "output_type": "stream",
     "text": [
      "1 2\n",
      "3\n",
      "1 2\n",
      "3\n"
     ]
    },
    {
     "data": {
      "text/plain": [
       "3"
      ]
     },
     "execution_count": 2,
     "metadata": {},
     "output_type": "execute_result"
    }
   ],
   "source": [
    "def print_inout(whatever=None):\n",
    "    \n",
    "    def add_and_print(n1, n2):\n",
    "        print n1, n2\n",
    "        s = n1 + n2\n",
    "        print s\n",
    "        return s\n",
    "    \n",
    "    return add_and_print\n",
    "\n",
    "add_and_print = print_inout()\n",
    "\n",
    "add_and_print(1, 2)\n",
    "\n",
    "print_inout()(1, 2)"
   ]
  },
  {
   "cell_type": "markdown",
   "metadata": {},
   "source": [
    "### Function can be an input parameter too\n",
    "`double` takes an input parameter `the_add_func`"
   ]
  },
  {
   "cell_type": "code",
   "execution_count": 3,
   "metadata": {},
   "outputs": [
    {
     "name": "stdout",
     "output_type": "stream",
     "text": [
      "1 2\n",
      "3\n"
     ]
    },
    {
     "data": {
      "text/plain": [
       "3"
      ]
     },
     "execution_count": 3,
     "metadata": {},
     "output_type": "execute_result"
    }
   ],
   "source": [
    "def print_inout(the_add_func):\n",
    "    \n",
    "    def add_and_print(n1, n2):\n",
    "        print n1, n2\n",
    "        s = the_add_func(n1, n2)\n",
    "        print s\n",
    "        return s\n",
    "    \n",
    "    return add_and_print\n",
    "\n",
    "add_and_print = print_inout(add)\n",
    "\n",
    "add_and_print(1, 2)"
   ]
  },
  {
   "cell_type": "markdown",
   "metadata": {},
   "source": [
    "## How about taking an arbitrary function"
   ]
  },
  {
   "cell_type": "code",
   "execution_count": 4,
   "metadata": {},
   "outputs": [
    {
     "name": "stdout",
     "output_type": "stream",
     "text": [
      "(1, 2) {}\n",
      "3\n"
     ]
    },
    {
     "data": {
      "text/plain": [
       "3"
      ]
     },
     "execution_count": 4,
     "metadata": {},
     "output_type": "execute_result"
    }
   ],
   "source": [
    "def print_inout(whatever_returns_something):\n",
    "    \n",
    "    def whatever_and_print(*args, **kwargs):\n",
    "        print args, kwargs\n",
    "        s = whatever_returns_something(*args, **kwargs)\n",
    "        print s\n",
    "        return s\n",
    "    \n",
    "    return whatever_and_print\n",
    "\n",
    "add_and_print = print_inout(add)\n",
    "\n",
    "add_and_print(1, 2)"
   ]
  },
  {
   "cell_type": "markdown",
   "metadata": {},
   "source": [
    "## And we usually write it this way..."
   ]
  },
  {
   "cell_type": "code",
   "execution_count": 5,
   "metadata": {
    "collapsed": true
   },
   "outputs": [],
   "source": [
    "def print_inout(func):\n",
    "    \n",
    "    def inner(*args, **kwargs):\n",
    "        print 'function input: ', args, kwargs\n",
    "        s = func(*args, **kwargs)\n",
    "        print 'function output:', s\n",
    "        return s\n",
    "    \n",
    "    return inner"
   ]
  },
  {
   "cell_type": "markdown",
   "metadata": {},
   "source": [
    "## The `@` symbol"
   ]
  },
  {
   "cell_type": "code",
   "execution_count": 6,
   "metadata": {},
   "outputs": [
    {
     "name": "stdout",
     "output_type": "stream",
     "text": [
      "function input:  (1, 2) {}\n",
      "function output: 3\n",
      "function input:  (6, 2) {}\n",
      "function output: 4\n",
      "function input:  (1, set([])) {'str1': 'bar', 'n3': 0}\n",
      "function output: nothing\n"
     ]
    },
    {
     "data": {
      "text/plain": [
       "'nothing'"
      ]
     },
     "execution_count": 6,
     "metadata": {},
     "output_type": "execute_result"
    }
   ],
   "source": [
    "def add(n1, n2):\n",
    "    return n1 + n2\n",
    "\n",
    "add = print_inout(add)\n",
    "add(1, 2)\n",
    "\n",
    "@print_inout\n",
    "def subtract(n1, n2):\n",
    "    return n1 - n2\n",
    "\n",
    "subtract(6, 2)\n",
    "\n",
    "@print_inout\n",
    "def foo(n1, n2, n3, str1):\n",
    "    return 'nothing'\n",
    "\n",
    "foo(1, set(), n3=0, str1='bar')"
   ]
  },
  {
   "cell_type": "markdown",
   "metadata": {},
   "source": [
    "## A real world example"
   ]
  },
  {
   "cell_type": "code",
   "execution_count": 7,
   "metadata": {},
   "outputs": [
    {
     "name": "stdout",
     "output_type": "stream",
     "text": [
      "dummy_loop takes 0.0503s to finish\n"
     ]
    },
    {
     "data": {
      "text/plain": [
       "0"
      ]
     },
     "execution_count": 7,
     "metadata": {},
     "output_type": "execute_result"
    }
   ],
   "source": [
    "import time\n",
    "\n",
    "def timeit(func):\n",
    "    def inner(*args, **kwargs):\n",
    "        start = time.time()\n",
    "        result = func(*args, **kwargs)\n",
    "        elapsed = time.time() - start\n",
    "        print '%s takes %.4fs to finish' % (func.__name__, elapsed)\n",
    "        return result\n",
    "    \n",
    "    return inner\n",
    "\n",
    "@timeit\n",
    "def dummy_loop():\n",
    "    for i in xrange(1000000):\n",
    "        1.2 * 3.4 / 5.6\n",
    "    return 0\n",
    "\n",
    "dummy_loop()"
   ]
  },
  {
   "cell_type": "markdown",
   "metadata": {},
   "source": [
    "\n",
    "## why my funtion signature is changed"
   ]
  },
  {
   "cell_type": "code",
   "execution_count": 10,
   "metadata": {},
   "outputs": [
    {
     "name": "stdout",
     "output_type": "stream",
     "text": [
      "<function foo at 0x10477f6e0>\n",
      "Help on function foo in module __main__:\n",
      "\n",
      "foo(*args, **kwargs)\n",
      "    takes an input parameter 'bar'\n",
      "    this function does nothing\n",
      "\n"
     ]
    }
   ],
   "source": [
    "@timeit\n",
    "def foo(bar=0):\n",
    "    \"\"\"\n",
    "    takes an input parameter 'bar'\n",
    "    this function does nothing\n",
    "    \"\"\"\n",
    "    return bar\n",
    "\n",
    "print foo\n",
    "help(foo)"
   ]
  },
  {
   "cell_type": "markdown",
   "metadata": {},
   "source": [
    "## use the builtin `functools.wraps`"
   ]
  },
  {
   "cell_type": "code",
   "execution_count": 9,
   "metadata": {
    "collapsed": true
   },
   "outputs": [],
   "source": [
    "from functools import wraps\n",
    "\n",
    "def timeit(func):\n",
    "    @wraps(func) # <---- this is the magic\n",
    "    def inner(*args, **kwargs):\n",
    "        start = time.time()\n",
    "        result = func(*args, **kwargs)\n",
    "        elapsed = time.time() - start\n",
    "        print '%s takes %.4fs to finish' % (func.__name__, elapsed)\n",
    "        return result\n",
    "    \n",
    "    return inner"
   ]
  },
  {
   "cell_type": "markdown",
   "metadata": {},
   "source": [
    "## A dynamic decorator"
   ]
  },
  {
   "cell_type": "code",
   "execution_count": 11,
   "metadata": {},
   "outputs": [
    {
     "name": "stdout",
     "output_type": "stream",
     "text": [
      "dummy_loop1 takes 0.0484s to finish\n",
      "dummy_loop2 takes 45.3060ms to finish\n"
     ]
    },
    {
     "ename": "AssertionError",
     "evalue": "",
     "output_type": "error",
     "traceback": [
      "\u001b[0;31m---------------------------------------------------------------------------\u001b[0m",
      "\u001b[0;31mAssertionError\u001b[0m                            Traceback (most recent call last)",
      "\u001b[0;32m<ipython-input-11-8095dea91388>\u001b[0m in \u001b[0;36m<module>\u001b[0;34m()\u001b[0m\n\u001b[1;32m     32\u001b[0m \u001b[0mdummy_loop2\u001b[0m\u001b[0;34m(\u001b[0m\u001b[0;34m)\u001b[0m\u001b[0;34m\u001b[0m\u001b[0m\n\u001b[1;32m     33\u001b[0m \u001b[0;34m\u001b[0m\u001b[0m\n\u001b[0;32m---> 34\u001b[0;31m \u001b[0;34m@\u001b[0m\u001b[0mtimeit\u001b[0m\u001b[0;34m(\u001b[0m\u001b[0munit\u001b[0m\u001b[0;34m=\u001b[0m\u001b[0;34m'minute'\u001b[0m\u001b[0;34m)\u001b[0m\u001b[0;34m\u001b[0m\u001b[0m\n\u001b[0m\u001b[1;32m     35\u001b[0m \u001b[0;32mdef\u001b[0m \u001b[0mdummy_loop3\u001b[0m\u001b[0;34m(\u001b[0m\u001b[0;34m)\u001b[0m\u001b[0;34m:\u001b[0m\u001b[0;34m\u001b[0m\u001b[0m\n\u001b[1;32m     36\u001b[0m     \u001b[0;32mfor\u001b[0m \u001b[0mi\u001b[0m \u001b[0;32min\u001b[0m \u001b[0mxrange\u001b[0m\u001b[0;34m(\u001b[0m\u001b[0;36m1000000\u001b[0m\u001b[0;34m)\u001b[0m\u001b[0;34m:\u001b[0m\u001b[0;34m\u001b[0m\u001b[0m\n",
      "\u001b[0;32m<ipython-input-11-8095dea91388>\u001b[0m in \u001b[0;36mtimeit\u001b[0;34m(unit)\u001b[0m\n\u001b[1;32m      1\u001b[0m \u001b[0;32mdef\u001b[0m \u001b[0mtimeit\u001b[0m\u001b[0;34m(\u001b[0m\u001b[0munit\u001b[0m\u001b[0;34m=\u001b[0m\u001b[0;34m's'\u001b[0m\u001b[0;34m)\u001b[0m\u001b[0;34m:\u001b[0m\u001b[0;34m\u001b[0m\u001b[0m\n\u001b[0;32m----> 2\u001b[0;31m     \u001b[0;32massert\u001b[0m\u001b[0;34m(\u001b[0m\u001b[0munit\u001b[0m \u001b[0;32min\u001b[0m \u001b[0;34m[\u001b[0m\u001b[0;34m's'\u001b[0m\u001b[0;34m,\u001b[0m \u001b[0;34m'ms'\u001b[0m\u001b[0;34m]\u001b[0m\u001b[0;34m)\u001b[0m\u001b[0;34m\u001b[0m\u001b[0m\n\u001b[0m\u001b[1;32m      3\u001b[0m     \u001b[0;32mdef\u001b[0m \u001b[0m_timeit\u001b[0m\u001b[0;34m(\u001b[0m\u001b[0mfunc\u001b[0m\u001b[0;34m)\u001b[0m\u001b[0;34m:\u001b[0m\u001b[0;34m\u001b[0m\u001b[0m\n\u001b[1;32m      4\u001b[0m         \u001b[0;34m@\u001b[0m\u001b[0mwraps\u001b[0m\u001b[0;34m(\u001b[0m\u001b[0mfunc\u001b[0m\u001b[0;34m)\u001b[0m\u001b[0;34m\u001b[0m\u001b[0m\n\u001b[1;32m      5\u001b[0m         \u001b[0;32mdef\u001b[0m \u001b[0minner\u001b[0m\u001b[0;34m(\u001b[0m\u001b[0;34m*\u001b[0m\u001b[0margs\u001b[0m\u001b[0;34m,\u001b[0m \u001b[0;34m**\u001b[0m\u001b[0mkwargs\u001b[0m\u001b[0;34m)\u001b[0m\u001b[0;34m:\u001b[0m\u001b[0;34m\u001b[0m\u001b[0m\n",
      "\u001b[0;31mAssertionError\u001b[0m: "
     ]
    }
   ],
   "source": [
    "def timeit(unit='s'):\n",
    "    assert(unit in ['s', 'ms'])\n",
    "    def _timeit(func):\n",
    "        @wraps(func)\n",
    "        def inner(*args, **kwargs):\n",
    "            start = time.time()\n",
    "            result = func(*args, **kwargs)\n",
    "            elapsed = time.time() - start\n",
    "            if unit == 'ms':\n",
    "                elapsed *= 1000\n",
    "            print '%s takes %.4f%s to finish' % (func.__name__, elapsed, unit)\n",
    "            return result\n",
    "        \n",
    "        return inner # <-- returns a decorated function\n",
    "    \n",
    "    return _timeit # <-- returns a new decorator\n",
    "\n",
    "@timeit()\n",
    "def dummy_loop1():\n",
    "    for i in xrange(1000000): \n",
    "        1.2 * 3.4 / 5.6\n",
    "    return 0\n",
    "\n",
    "dummy_loop1()\n",
    "\n",
    "@timeit('ms')\n",
    "def dummy_loop2():\n",
    "    for i in xrange(1000000): \n",
    "        1.2 * 3.4 / 5.6\n",
    "    return 0\n",
    "\n",
    "dummy_loop2()\n",
    "\n",
    "@timeit(unit='minute')\n",
    "def dummy_loop3():\n",
    "    for i in xrange(1000000): \n",
    "        1.2 * 3.4 / 5.6\n",
    "    return 0\n",
    "\n",
    "dummy_loop3()"
   ]
  },
  {
   "cell_type": "markdown",
   "metadata": {},
   "source": [
    "## order matters"
   ]
  },
  {
   "cell_type": "code",
   "execution_count": 12,
   "metadata": {},
   "outputs": [
    {
     "name": "stdout",
     "output_type": "stream",
     "text": [
      "22\n",
      "12\n"
     ]
    }
   ],
   "source": [
    "def double(func):\n",
    "    def inner(*args, **kwargs):\n",
    "        return func(*args, **kwargs) * 2\n",
    "    \n",
    "    return inner\n",
    "\n",
    "def plus_ten(func):\n",
    "    def inner(*args, **kwargs):\n",
    "        return func(*args, **kwargs) + 10\n",
    "    \n",
    "    return inner\n",
    "\n",
    "@double\n",
    "@plus_ten\n",
    "def f1():\n",
    "    return 1\n",
    "\n",
    "@plus_ten\n",
    "@double\n",
    "def f2():\n",
    "    return 1\n",
    "\n",
    "print f1()\n",
    "print f2()"
   ]
  },
  {
   "cell_type": "markdown",
   "metadata": {},
   "source": [
    "   ## decorators dynamically alter the functionality of a function or method\n",
    "   ### django transaction atomic"
   ]
  },
  {
   "cell_type": "code",
   "execution_count": null,
   "metadata": {
    "collapsed": true
   },
   "outputs": [],
   "source": [
    "@transaction.atomic\n",
    "def view1(request):\n",
    "    return Response()\n",
    "\n",
    "def view2(request):\n",
    "    with transaction.atomic():\n",
    "        return Response()\n",
    "\n",
    "# the source code\n",
    "def atomic(using=None, savepoint=True):\n",
    "    # Bare decorator: @atomic -- although the first argument is called\n",
    "    # `using`, it's actually the function being decorated.\n",
    "    if callable(using):\n",
    "        return Atomic(DEFAULT_DB_ALIAS, savepoint)(using)\n",
    "    # Decorator: @atomic(...) or context manager: with atomic(...): ...\n",
    "    else:\n",
    "        return Atomic(using, savepoint)"
   ]
  },
  {
   "cell_type": "markdown",
   "metadata": {},
   "source": [
    "   ### implementing a simple async taskqueue using hosted mq service\n",
    "   this is only for demonstration purpose. You need to implement your own queue and message for it to work properly"
   ]
  },
  {
   "cell_type": "code",
   "execution_count": null,
   "metadata": {
    "collapsed": true
   },
   "outputs": [],
   "source": [
    "# taskqueue.py\n",
    "import json\n",
    "\n",
    "if queue == 'alibaba':\n",
    "    from ali import queue, Message\n",
    "elif queue == 'aws':\n",
    "    from aws import queue, Message\n",
    "elif queue == 'google':\n",
    "    from gcp import queue, Message\n",
    "\n",
    "class Tasklet(object):\n",
    "    def __init__(self, payload):\n",
    "        self.msg = Message(payload)\n",
    "        \n",
    "    def delay(self, seconds=0):\n",
    "        if seconds > 0:\n",
    "            self.msg.set_delayseconds(seconds)\n",
    "        reply = queue.enqueue(self.msg) # send to the mq on cloud\n",
    "        log.info('task_sent')\n",
    "        return reply\n",
    "\n",
    "\n",
    "def async(func):\n",
    "    @wraps(func)\n",
    "    def inner(*args, **kwargs):\n",
    "        # _exec controls whether to return a tasklet or to execute the function\n",
    "        if kwargs.pop('_exec', False):\n",
    "            return func(*args, **kwargs)\n",
    "        data = {'args': args, 'kwargs': kwargs, 'task': func.__name__}\n",
    "        # json.dumps might fail, change to pickle when necessary\n",
    "        # but in general it's better to avoid complex object passing externally\n",
    "        payload = json.dumps(data, ensure_bytes=True)\n",
    "        task = Tasklet(payload)\n",
    "        return task\n",
    "    \n",
    "    return inner\n",
    "\n",
    "\n",
    "# tasks/__init__.py\n",
    "from taskqueue import async\n",
    "\n",
    "@async\n",
    "def ping():\n",
    "    print 'pong'\n",
    "\n",
    "    \n",
    "# views.py\n",
    "from tasks import ping\n",
    "\n",
    "def view(request):\n",
    "    ping().delay(3)\n",
    "\n",
    "\n",
    "# worker.py\n",
    "import importlib\n",
    "from taskqueue import queue\n",
    "import time\n",
    "import json\n",
    "\n",
    "_imported_modules = None\n",
    "\n",
    "def run():\n",
    "    while True:\n",
    "        time.sleep(0.1)\n",
    "        try:\n",
    "            message = queue.receive()\n",
    "        except:\n",
    "            continue\n",
    "        \n",
    "        payload = json.loads(message)\n",
    "        func = getattr(_imported_modules, payload['task'], None)\n",
    "        if func is None:\n",
    "            continue\n",
    "        \n",
    "        try:\n",
    "            func(_exec=True, *payload['args'], **payload['kwargs'])\n",
    "        except:\n",
    "            continue\n",
    "\n",
    "if __name__ == '__main__':\n",
    "    _imported_modules = importlib.import_modules('tasks')\n",
    "    run()\n"
   ]
  },
  {
   "cell_type": "markdown",
   "metadata": {},
   "source": [
    "by Mengchi @ [Magnum Research Limited](https://www.aqumon.com)  \n",
    "If you have passion in developing and FinTech, we're hiring! Send your CV to [career@magnumwm.com](career@magnumwm.com)"
   ]
  }
 ],
 "metadata": {
  "kernelspec": {
   "display_name": "Python 2",
   "language": "python",
   "name": "python2"
  },
  "language_info": {
   "codemirror_mode": {
    "name": "ipython",
    "version": 2
   },
   "file_extension": ".py",
   "mimetype": "text/x-python",
   "name": "python",
   "nbconvert_exporter": "python",
   "pygments_lexer": "ipython2",
   "version": "2.7.13"
  }
 },
 "nbformat": 4,
 "nbformat_minor": 2
}
